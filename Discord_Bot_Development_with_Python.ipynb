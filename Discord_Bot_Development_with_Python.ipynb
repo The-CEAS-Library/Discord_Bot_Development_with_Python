{
  "cells": [
    {
      "cell_type": "markdown",
      "metadata": {
        "id": "eSLkpD5L6Tj6"
      },
      "source": [
        "# **Welcome to Discord Bot Development with Python!**\n",
        "![pydisc.png](data:image/png;base64,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)"
      ]
    },
    {
      "cell_type": "markdown",
      "metadata": {
        "id": "FmDhM75y46og"
      },
      "source": [
        "# Course Overview \n",
        "---\n",
        "\n",
        "This is a standalone Python workshop taught on the Google Colab platform. Attending the CEAS Library's Introduction to Python workshops and experience with Python or any other programming language is strongly recommended. This workshop goes over the creation of bots for Discord, a popular text messaging platform, for task automation, server management, and miscellaneous fun applications. Both a Google account and Discord account are required for this workshop. \\\n",
        "\\\n",
        "In this workshop, you will learn: \n",
        "\n",
        "*   How Discord bots are made\n",
        "*   What Discord bots are used for\n",
        "*   Creating and utalizing enviroment variables (.env)\n",
        "*   An overview of async. functions and their use in Python\n",
        "*   Foundational knowledge of the pycord API wrapper\n",
        "\n",
        "#### Important Links\n",
        "[Pycord Documentation](https://docs.pycord.dev/en/stable/)\n",
        "\n",
        "[Discord Developer Portal](https://discord.com/developers/applications)\n",
        "\n"
      ]
    },
    {
      "cell_type": "markdown",
      "metadata": {
        "id": "-F_fGBS2D-3n"
      },
      "source": [
        "# Pre-requisites\n",
        "---\n",
        "\n",
        "- Please ensure that you have a Discord account.\n",
        "- It is highly recommended to create a test server for your bot.\n",
        "  - To do this, click the + \"Add a Server\" button at the bottom of the server list on the Discord client and select \"Create My Own\".\n",
        "  - You can skip the community question when prompted, set a name for the server, and click **Create**.\n",
        "- You should already have a good-ish understanding of the basics of Python.\n",
        "below is a list of things that you might want to know before this workshop. If any of these ideas seem foreign to you, don't worry! ***You can still follow along, and if you wish to learn more about what you're actually programming, you should consider taking the CEAS Library's Introduction to Python workshop series.***\n",
        "  - String manipulation \n",
        "  - Data types \n",
        "  - Basic conditional statements\n",
        "  - Importing Python packages\n",
        "\n",
        "\n"
      ]
    },
    {
      "cell_type": "markdown",
      "metadata": {
        "id": "SqptyyjA-IM0"
      },
      "source": [
        "## What and Why?\n",
        "---\n",
        "Discord is a popular instant-messaging and voice communicatoin service released in 2015. Since then, the developers of Discord have created the Discord Development Portal to allow programmers to create Bot Users, essentially, accounts that have the appearance of a regular user that can run programmed commands on request. \n",
        "\n",
        "\n",
        "**Why do communities use Discord Bots?**\n",
        "\n",
        "1.   To organize community events\n",
        "2.   To handle moderation and role assignment for new users\n",
        "3.   To utilize the powerful API to connect Discord to other services\n",
        "4.   To create games, fun activities, and reward systems for members\n",
        "\n"
      ]
    },
    {
      "cell_type": "markdown",
      "metadata": {
        "id": "rdIWjyjuBWC8"
      },
      "source": [
        "# Getting Started\n",
        "---\n",
        "To begin, start by signing into your Discord account on the [Discord Developer Portal](https://discord.com/developers/applications) page. Next to your profile picture in the top right-hand corner, you will see a New Application button $-$ go ahead and click it. \n",
        "\n",
        "\n",
        "![](https://i.imgur.com/ValUoQV.png)\n",
        "\n",
        "Give your application a name on the pop-up and click the **Create** button. You will be taken to the application overview page.\n",
        "\n",
        "\n",
        "![](https://i.imgur.com/OXgYdbo.png)\n",
        "\n",
        "\n",
        "Click on the \"Bot\" tab under settings. \n",
        "\n",
        "![](https://i.imgur.com/jRuRk8H.png)\n",
        "\n",
        "Scroll down on `Privileged Gateway Intents` section, and flip the switch that says \"Message Content Intent\". This will allow your bot to read messages that users send, and act upon it\n",
        "\n",
        "![](https://i.imgur.com/MpzQxAM.png)\n",
        "\n",
        "\n",
        "Click on the *`OAuth2`* tab under settings. In that category, continue to the *`\"URL Generator\"`* option. Under *`\"Scopes\"`*, check the box that says *`\"bot\"`*. When the Bot Permissions tab appears, choose the boxes that say *`\"Send Messages\"`*, *`\"Manage Messages\"`*, and *`\"Read Message History\"`*. Then, copy the generated URL and navigate to it in your browser **in a new tab**. Invite the bot to your test server.\n",
        "\n",
        "\n",
        "![](https://i.imgur.com/WwAQw1C.png)\n",
        "\n",
        "\n",
        "Navigate back to the *`\"Bot\"`* tab under settings and click the \"Reset Token\" button. **This is your bot's secret token$-$do not share it with anyone!** Copy the string of characters that is given and continue to the next section.\n",
        "\n",
        "\n",
        "![](https://i.imgur.com/7vqOV30.png)\n"
      ]
    },
    {
      "cell_type": "markdown",
      "metadata": {
        "id": "nMhp6gxB0Ep5"
      },
      "source": [
        "# Creating Enviroment Variables (.env)\n",
        "---\n",
        "**Define** enviroment variables: .env files are simple text-based files that allow you to control constant variables for use in your application but storing them outside of the main program. They typically store configuration data like paths, usernames, passwords, or API keys, allowing applications to operate in different environments without modifying the code. This is especially helpful for creating secret variables (think about what would happen if you commited a file with a secret bot key to GitHub!)\n",
        "\n",
        "Python has a package that allows us to store important secret variables in our personal Google Drive so we can use them for later. In this code block, we import the `colab_env` package, give it permissions to our Drive, and set our DISCORD_TOKEN which we talked about previously.\n",
        "\n",
        "This helps keep our bot's private key secure$-$this means that only *we* will be able to log into the bot interface and run explicitly our code. "
      ]
    },
    {
      "cell_type": "code",
      "execution_count": null,
      "metadata": {
        "id": "i8TYHtBlVzPw"
      },
      "outputs": [],
      "source": [
        "!pip install colab-env -qU\n",
        "import colab_env"
      ]
    },
    {
      "cell_type": "markdown",
      "metadata": {
        "id": "Goe1Kf-RVztq"
      },
      "source": [
        "Run the code below and paste your Discord bot's token in the field.\n",
        "\n",
        "\n",
        "-----> ***Only run once, ever.***  <-----\n",
        "\n",
        "\n",
        "Since the .env is stored in your Google Drive, it persists through Google Colab runtimes. Once you've run this once, if you get disconnected from Google Colab, you can just re-import `colab-env` using the code block above and then skip straight to Loading Enviroment Variables (.env)."
      ]
    },
    {
      "cell_type": "code",
      "execution_count": null,
      "metadata": {
        "id": "eI_rpmqBuhHr"
      },
      "outputs": [],
      "source": [
        "%reset -f\n",
        "from colab_env import envvar_handler\n",
        "from getpass import getpass\n",
        "\n",
        "envvar_handler.add_env(\"DISCORD_TOKEN\", getpass(\"DISCORD_TOKEN: \"), True)\n",
        "print(f\"Saved enviroment variable to {envvar_handler.envpath}\")"
      ]
    },
    {
      "cell_type": "markdown",
      "metadata": {
        "id": "OU1EjZEq1U5x"
      },
      "source": [
        "#Loading Enviroment Variables (.env)\n",
        "---\n",
        "To access the enviroment variable we just set, we import the operating system package for Python `import os` to give it access to our \"file system\" (in this case, our Google Drive), and then use the `.getenv()` method to assign our token secret to a variable named DISCORD_TOKEN."
      ]
    },
    {
      "cell_type": "code",
      "execution_count": null,
      "metadata": {
        "id": "6HB7QNn5y_Sv"
      },
      "outputs": [],
      "source": [
        "import os\n",
        "from colab_env import envvar_handler\n",
        "\n",
        "envvar_handler.envload()\n",
        "DISCORD_TOKEN = os.getenv(\"DISCORD_TOKEN\")"
      ]
    },
    {
      "cell_type": "markdown",
      "metadata": {
        "id": "EK3vUhR38Eir"
      },
      "source": [
        "# Overview of Asynchronous Functions\n",
        "---\n",
        "\n",
        "**Define** asynchronous functions: special functions that define code to be executed on seperate *threads*, allowing for several task executions to happen indpendently from the *main function*.\n",
        "\n",
        "**Define** threads: a set of instructions to be executed by your computer's CPU.\n",
        "\n",
        "**Define** control flow: the order in which statement, assignments, and functions are called in a program.\n",
        "\n",
        "\n",
        "\n",
        "### Here's an example of the control flow of a normal function:\n",
        "![](https://i.imgur.com/Ggfr9kB.png)\n",
        "\n",
        "### And here's an example of the control flow of an async function:\n",
        "![](https://i.imgur.com/OL3KsS8.png)\n",
        "\n",
        "\n",
        "\n",
        "**How to implement asynchronous functions?** Using async functions in Python is easy. First, we can import the `asyncio` package in our code. We can use the `async` and `await` keywords to establish asynchronous control flow. \n",
        "\n",
        "**Keyword `async`:** designates a Python function as asynchronous--the \"other function\" in the diagram above\n",
        "\n",
        "**Keyword `await`:** essentially, adding this to a call to a function lets Python know that we need to wait for the \"other\" action to return a value before continuing along in the main function.\n",
        "\n",
        "\n",
        "\n",
        "When we talked about async functions, we did not touch upon the downsides they do not work perfectly in Jupiter notebooks, the underlying technology of Google Colab, the platform we are using currently. To overcome the problem of async functions not being able to be nested, we can install the `nest_asyncio` package to sidestep this limitation. We apply it to the notebook below with the method `.apply()`.\n",
        "\n",
        "\n",
        "\n",
        "Below is a small example of asyncio functions being used in Python, from the [Coroutines and Tasks Python 3.10 documentation](https://docs.python.org/3/library/asyncio-task.html). Please run this block so that nest_asyncio is installed:"
      ]
    },
    {
      "cell_type": "code",
      "execution_count": null,
      "metadata": {},
      "outputs": [],
      "source": [
        "!pip install nest_asyncio"
      ]
    },
    {
      "cell_type": "code",
      "execution_count": 3,
      "metadata": {
        "id": "9DWFVtiVHv-9"
      },
      "outputs": [
        {
          "name": "stdout",
          "output_type": "stream",
          "text": [
            "started at 12:27:52\n",
            "hello\n",
            "world\n",
            "finished at 12:27:55\n"
          ]
        }
      ],
      "source": [
        "import asyncio\n",
        "import nest_asyncio as n_asyncio\n",
        "n_asyncio.apply()\n",
        "\n",
        "import time\n",
        "\n",
        "async def say_after(time_delay, string):\n",
        "    await asyncio.sleep(time_delay)\n",
        "    print(string)\n",
        "\n",
        "async def main():\n",
        "    print(f\"started at {time.strftime('%X')}\")\n",
        "\n",
        "    await say_after(1, 'hello')\n",
        "    await say_after(2, 'world')\n",
        "\n",
        "    print(f\"finished at {time.strftime('%X')}\")\n",
        "\n",
        "asyncio.run(main())"
      ]
    },
    {
      "cell_type": "markdown",
      "metadata": {},
      "source": [
        "# What is Discord Bot?\n",
        "\n",
        "A Discord bot is an automated program that can perform tasks on a Discord server, such as moderating chat, playing music, or providing information. Bots interact with users by listening to events and responding to commands, making them a powerful tool to enhance the functionality of a server.\n",
        "\n",
        "### Attributes of a Discord Bot\n",
        "\n",
        "A bot in Discord has several attributes, which define its functionality and how it interacts with the Discord API. Key attributes include:\n",
        "\n",
        "- Token: The authentication key used to connect the bot to Discord.\n",
        "- Prefix: The character(s) that the bot listens for to recognize commands (e.g., / or _).\n",
        "- Intents: Special flags that determine what types of events the bot is allowed to respond to. \n",
        "- Commands: Defined actions that the bot can execute based on user input.\n",
        "- Events: Actions in Discord (like message sends or member joins) that trigger a bot's response."
      ]
    },
    {
      "cell_type": "markdown",
      "metadata": {
        "id": "oholT-3y6sbI"
      },
      "source": [
        "# How to develop a Discord Bot with Python?\n",
        "---\n",
        " The `py-cord` library provides the tools needed to interact with Discord’s API, allowing developers to create bots that can automate tasks, respond to commands, and more within Discord servers.\n",
        "\n",
        "### Key Things to Know About Py-Cord:\n",
        "\n",
        "1. Slash Commands: Py-Cord has built-in support for slash commands, offering more intuitive command interactions for users without needing a command prefix.\n",
        "2. Asynchronous Framework: Py-Cord operates asynchronously, meaning your bot can perform multiple tasks at once without blocking other operations.\n",
        "3. Interactions: The library simplifies the use of interactive elements like buttons and dropdowns, which are becoming increasingly important for Discord bots.\n",
        "\n",
        "We can easily install it from the pip package `py-cord`, and we'll import it by calling `import discord`."
      ]
    },
    {
      "cell_type": "code",
      "execution_count": null,
      "metadata": {
        "id": "tpndeqj_1SGE"
      },
      "outputs": [],
      "source": [
        "!pip install py-cord"
      ]
    },
    {
      "cell_type": "code",
      "execution_count": null,
      "metadata": {},
      "outputs": [],
      "source": [
        "from discord.ext import commands\n",
        "import discord"
      ]
    },
    {
      "cell_type": "markdown",
      "metadata": {},
      "source": [
        "### Instantiating our new Bot:\n",
        "---\n",
        "\n",
        "One thing you need to concern about when creating or instantiating a new Bot is intents. \n",
        "Intents parameters can only accept `True` or `False`. If an intent is set to true, the bot is allowed to conduct that types of event in the channel.\n",
        "List of Intents can be found here: \n",
        "[List of Intents](https://discord.com/developers/docs/topics/gateway#gateway-intents)\n",
        "\n",
        "Two types of intents exist:\n",
        "\n",
        "- **Standard intents** can be passed by default. You don't need any additional permissions or configurations.\n",
        "- **Privileged intents** require you to toggle the intent for your bot in your app's settings within the Developer Portal before passing said intent. \n",
        "    - There are 3 privileged intents having the default value as False:\n",
        "        - guild_members\n",
        "        - message_content\n",
        "        - guild_presences\n",
        "\n",
        "If you want to your Bot have one of these permission, you need to switch it to `True`.\n"
      ]
    },
    {
      "cell_type": "code",
      "execution_count": null,
      "metadata": {},
      "outputs": [],
      "source": [
        "# Assign the client variable to the result of discord.Client().\n",
        "intents = discord.Intents.default()\n",
        "# message_content intents is set to True to allow the Bot to take in your command\n",
        "# and then do interesting things\n",
        "intents.message_content = True\n",
        "# Instantiate a new Bot\n",
        "bot = discord.Bot(intents=intents)"
      ]
    },
    {
      "cell_type": "markdown",
      "metadata": {},
      "source": [
        "#### Discord Bot Events:\n",
        "---\n",
        "\n",
        "- `Events` are system-defined actions that the bot listens for and responds to.\n",
        "- When an event occurs in Discord (like a message being sent or a new member join the channel), the corresponding `event handler` in the bot is called, and it can perform any necessary actions (e.g., responding to the message, welcoming a new member).\n",
        "- Some common events:\n",
        "    - `on_ready`: This event is triggered when the bot has successfully connected to Discord and is ready to interact.\n",
        "    - `on_message`: Triggered whenever a message is sent in a channel the bot has access to. This is commonly used to process messages, run commands, or respond based on certain keywords.\n",
        "    - `on_member_join`: Triggered when a new member joins the server. This event is often used to welcome new members or assign them roles automatically.\n",
        "    - `on_command_error`: Triggered when there’s an error in the bot’s command execution (e.g., wrong command input, missing permissions). This is helpful for error handling and providing user feedback."
      ]
    },
    {
      "cell_type": "code",
      "execution_count": null,
      "metadata": {},
      "outputs": [],
      "source": [
        "# Define an async function under the client event parameter.\n",
        "# This function will print the bot user's client ID to our console\n",
        "# once the async function has returned that we have logged in sucessfully.\n",
        "@bot.event\n",
        "async def on_ready():\n",
        "    print('We have logged in as {0.user}'.format(bot))"
      ]
    },
    {
      "cell_type": "code",
      "execution_count": null,
      "metadata": {},
      "outputs": [],
      "source": [
        "# This line assigns our client with the correct bot token, authenticating\n",
        "# that we have access to run our code on this bot user. To do this, we just simply need to \n",
        "# retrieve the token we store in the env\n",
        "# Abort this run after you see the result\n",
        "bot.run(DISCORD_TOKEN)"
      ]
    },
    {
      "cell_type": "markdown",
      "metadata": {},
      "source": [
        "#### Exercise 1: Good Bot Reaction\n",
        "---\n",
        "\n",
        "We can make bots do all kinds of interesting things triggered by user's events. In this exercise, let's make our bot react to every message that contains the string \"Good bot\" or \"good bot\" or \"good Bot\" with the heart emoji (💖).\n",
        "\n",
        "As we pass the message as a parameter we can interact with every attributes of it like `.content` (to target the content of the message) or even `.add-reaction` to add reaction to that message\n",
        "\n",
        "**Hint #1:** You need to standardize the input message from the user into a format to add a condition for the bot to add reaction. You can use the `.lower()` to turn every string into lower case.\n",
        "\n",
        "**Hint #2:** pycord and Python both support Unicode characters in code. You should try using `'💖'` as a string literal in your answer. "
      ]
    },
    {
      "cell_type": "code",
      "execution_count": null,
      "metadata": {},
      "outputs": [],
      "source": [
        "# Assign the client variable to the result of discord.Client().\n",
        "intents = discord.Intents.default()\n",
        "# message_content intents is set to True to allow the Bot to take in your command\n",
        "# and then do interesting things\n",
        "intents.message_content = True\n",
        "# Instantiate the Bot\n",
        "bot = discord.Bot(intents=intents)"
      ]
    },
    {
      "cell_type": "code",
      "execution_count": null,
      "metadata": {},
      "outputs": [],
      "source": [
        "# exercise 1\n",
        "# good bot\n",
        "@bot.event\n",
        "async def on_message(message):\n",
        "    if message.content.lower() == 'good bot':\n",
        "        pass # replace this with your code\n",
        "    "
      ]
    },
    {
      "cell_type": "code",
      "execution_count": null,
      "metadata": {},
      "outputs": [],
      "source": [
        "# This line assigns our client with the correct bot token, authenticating\n",
        "# that we have access to run our code on this bot user. To do this, we just simply need to \n",
        "# retrieve the token we store in the env\n",
        "# Abort this run after you see the result\n",
        "bot.run(DISCORD_TOKEN)"
      ]
    },
    {
      "cell_type": "markdown",
      "metadata": {},
      "source": [
        "### Slash commands\n",
        "---\n",
        "Slash commands in Discord are a modern and intuitive way for users to interact with bots by typing a `/` followed by the command name. Unlike traditional prefixed commands, slash commands offer autocomplete features, built-in descriptions, and argument suggestions, making them more user-friendly.\n",
        "\n",
        "Why we use slash `/` as a prefix but not other sign?\n",
        "There are several advantages of using slash commands such as providing autocompletion, clear descriptions, and argument validation, all within Discord’s native UI, etc. But one of the biggest reason is that it has built-in system, which supports developer with modification, and it is user-friendly.\n",
        "\n",
        "Build a structure of a new slash command `/`:\n"
      ]
    },
    {
      "cell_type": "code",
      "execution_count": null,
      "metadata": {},
      "outputs": [],
      "source": [
        "# Assign the client variable to the result of discord.Client().\n",
        "intents = discord.Intents.default()\n",
        "# message_content intents is set to True to allow the Bot to take in your command\n",
        "# and then do interesting things\n",
        "intents.message_content = True\n",
        "# Instantiate a new Bot\n",
        "bot = discord.Bot(intents=intents)"
      ]
    },
    {
      "cell_type": "code",
      "execution_count": null,
      "metadata": {},
      "outputs": [],
      "source": [
        "\n",
        "# ping -- returns message \"Pong!\" to check the bot's online status.\n",
        "@bot.slash_command(name=\"ping\", description=\"Check if the bot is online\")\n",
        "async def ping(ctx):\n",
        "    await ctx.respond('Pong!')\n"
      ]
    },
    {
      "cell_type": "markdown",
      "metadata": {},
      "source": [
        "### Slash command Structure: \n",
        "---\n",
        "`@bot.slash_command` is a decorator or a declarator to define a new slash command in Pycord with these parameters:\n",
        "- `name`: The command's name, which users will type after `/`.\n",
        "- `description`: A short explanation of what the command does, which is shown in the autocomplete menu.\n",
        "\n",
        "`async def ping(ctx)` is a sample of command function or the interesting things or the behaviours your bot will do behind the scence. It is an asynchronous function (`async`). \n",
        "\n",
        "- `ctx`: The `context` object that contains information about the interaction, like the user who invoked the command, the channel, and various methods to interact with the user \n",
        "\n",
        "`ctx.respond()`: is used to send a response back to the user "
      ]
    },
    {
      "cell_type": "code",
      "execution_count": null,
      "metadata": {},
      "outputs": [],
      "source": [
        "# This line assigns our client with the correct bot token, authenticating\n",
        "# that we have access to run our code on this bot user. To do this, we just simply need to \n",
        "# retrieve the token we store in the env\n",
        "# Abort this run after you see the result\n",
        "bot.run(DISCORD_TOKEN)"
      ]
    },
    {
      "cell_type": "markdown",
      "metadata": {},
      "source": [
        "### Context or `ctx` Object\n",
        "---\n",
        "\n",
        "The `ctx` or `context` object passed from the function contains information about the sender (or the `author` of the message). \n",
        "\n",
        "Here are some key attributes of `ctx.author`:\n",
        "- `id`: The unique Discord ID of the user.\n",
        "- `name`: The username of the user (without the discriminator).\n",
        "- `display_name`: The display name of the user, which could be different from their username if they have set a nickname\n",
        "- `mention`: The string that will mention the user when sent in a message.\n",
        "- `avatar`: The URL of the user's avatar image.\n",
        "- `status`: The user's current status\n",
        "- ....\n",
        "\n",
        "Here some methods available for `ctx.author`:\n",
        "- `send()`: Send a private (DM) message to the user.\n",
        "- `respond()`: Respond to the author's command\n",
        "- ...."
      ]
    },
    {
      "cell_type": "markdown",
      "metadata": {},
      "source": [
        "### Exercise #2\n",
        "---\n",
        "**Writing the \"hello\" command:** create the code for a command that, when executed by a user, will make the bot return a message saying \"Hello, {username}!\" where user is the username/id of the user who requested the command. It should be a simple, one line command.\n",
        "\n",
        "**Hint #1**: check out the `ping` command on our bot to see the syntax for sending bot messages.\n",
        "\n",
        "It might be helpful to [check the documentation.](https://docs.pycord.dev/en/stable/ext/commands/api.html#discord.ext.commands.Context)\n"
      ]
    },
    {
      "cell_type": "code",
      "execution_count": null,
      "metadata": {},
      "outputs": [],
      "source": [
        "# Assign the client variable to the result of discord.Client().\n",
        "intents = discord.Intents.default()\n",
        "# message_content intents is set to True to allow the Bot to take in your command\n",
        "# and then do interesting things\n",
        "intents.message_content = True\n",
        "# Instantiate a new Bot\n",
        "bot = discord.Bot(intents=intents)"
      ]
    },
    {
      "cell_type": "code",
      "execution_count": null,
      "metadata": {},
      "outputs": [],
      "source": [
        "# exercise 2\n",
        "# hello - will return the string \"Hello, user!\" depending on user.\n",
        "@bot.slash_command(name=\"hello\")\n",
        "async def hello(ctx):\n",
        "    pass # replace this with your code"
      ]
    },
    {
      "cell_type": "code",
      "execution_count": null,
      "metadata": {},
      "outputs": [],
      "source": [
        "# This line assigns our client with the correct bot token, authenticating\n",
        "# that we have access to run our code on this bot user. To do this, we just simply need to \n",
        "# retrieve the token we store in the env\n",
        "# Abort this run after you see the result\n",
        "bot.run(DISCORD_TOKEN)"
      ]
    },
    {
      "cell_type": "markdown",
      "metadata": {},
      "source": [
        "### Exercise #3 (Bonus)\n",
        "---\n",
        "\n",
        "Writing the **\"help\"** command: create the code for a command that, when executed by a user, will make the bot **direct message** the user once per command with the name of the command for all available commands. \n",
        "\n",
        "**Hint #1:** We now know how to get the author of a command. But we do *not* know how to send a direct message, only one to the channel that the command was sent from using `ctx.author` and `send`. \n",
        "\n",
        "**Hint #2:** We can create a list of available commands by declaring them in a list `[\"ping\",\"help\"...]`."
      ]
    },
    {
      "cell_type": "code",
      "execution_count": null,
      "metadata": {},
      "outputs": [],
      "source": [
        "# Assign the client variable to the result of discord.Client().\n",
        "intents = discord.Intents.default()\n",
        "# message_content intents is set to True to allow the Bot to take in your command\n",
        "# and then do interesting things\n",
        "intents.message_content = True\n",
        "# Instantiate a new Bot\n",
        "bot = discord.Bot(intents=intents)"
      ]
    },
    {
      "cell_type": "code",
      "execution_count": null,
      "metadata": {},
      "outputs": [],
      "source": [
        "# exercise 3\n",
        "# help -- will direct message the user a help message.\n",
        "@bot.slash_command(name=\"help\")\n",
        "async def help(ctx, cmd):\n",
        "    if cmd == 'help':\n",
        "        # replace this with your code\n",
        "        await ctx.respond('this message')"
      ]
    },
    {
      "cell_type": "code",
      "execution_count": null,
      "metadata": {},
      "outputs": [],
      "source": [
        "# This line assigns our client with the correct bot token, authenticating\n",
        "# that we have access to run our code on this bot user. To do this, we just simply need to \n",
        "# retrieve the token we store in the env\n",
        "# Abort this run after you see the result\n",
        "bot.run(DISCORD_TOKEN)"
      ]
    },
    {
      "cell_type": "markdown",
      "metadata": {},
      "source": [
        "### Embeds:\n",
        "---\n",
        "`Embeds` in Py-Cord are a powerful way to format messages with rich content. They allow you to add fields, images, and styling to make your messages more interactive and visually appealing.\n",
        "\n",
        "We will learn some basics of `embed`:\n",
        "- `title`: The main title of the embed. \n",
        "\n",
        "        Example: embed.title = \"Embed Title\"\n",
        "- `description`: A longer text body below the title.\n",
        "\n",
        "        Example: embed.description = \"This is an embed description.\"\n",
        "- `thumbnail`: Adds a small image to the upper-right corner of the embed. \n",
        "\n",
        "        Example: embed.set_thumbnail(url={Here is where you can find your image})\n",
        "- `fields`: You can add multiple fields to an embed. Each field has a name, a value, and an optional inline flag to control if it should appear alongside other fields.\n",
        "\n",
        "        Example: embed.add_field(name=\"Activity\", value=\"This is the status field.\", inline=False)"
      ]
    },
    {
      "cell_type": "markdown",
      "metadata": {},
      "source": [
        "### Exercise #4 (challenge)\n",
        "---\n",
        "\n",
        "Bots can send what are called Embeds in their Discord messages. Here's an example:\n",
        "\n",
        "![](https://i.imgur.com/hSHwZBv.png)\n",
        "\n",
        "Let's recreate this! Here's how the bot should build the embed:\n",
        "\n",
        "- The title should be the author's `name` and `status`\n",
        "- The thumbnail should be the author's avatar\n",
        "\n",
        "**Hint #1:** You should use ctx.author to get the author's information \n",
        "**Hint #2:** The structure of the embeds will include 1 `title`, 1 `thumbnail` and 1 activity `field`\n",
        "\n",
        "\n"
      ]
    },
    {
      "cell_type": "code",
      "execution_count": null,
      "metadata": {},
      "outputs": [],
      "source": [
        "# Assign the client variable to the result of discord.Client().\n",
        "intents = discord.Intents.default()\n",
        "# message_content intents is set to True to allow the Bot to take in your command\n",
        "# and then do interesting things\n",
        "intents.message_content = True\n",
        "# Instantiate a new Bot\n",
        "bot = discord.Bot(intents=intents)"
      ]
    },
    {
      "cell_type": "code",
      "execution_count": null,
      "metadata": {},
      "outputs": [],
      "source": [
        "# exercise 4\n",
        "#aboutme - will return the name and the pfp image of the user in an embed\n",
        "@bot.slash_command(name=\"about-me\")\n",
        "async def aboutme(ctx):\n",
        "    embed=discord.Embed(title='replace this') # replace this with your code\n",
        "    embed.set_thumbnail(url='replace this')\n",
        "    await ctx.respond(embed=embed)"
      ]
    },
    {
      "cell_type": "code",
      "execution_count": null,
      "metadata": {},
      "outputs": [],
      "source": [
        "# This line assigns our client with the correct bot token, authenticating\n",
        "# that we have access to run our code on this bot user. To do this, we just simply need to \n",
        "# retrieve the token we store in the env\n",
        "# Abort this run after you see the result\n",
        "bot.run(DISCORD_TOKEN)"
      ]
    },
    {
      "cell_type": "markdown",
      "metadata": {},
      "source": [
        "# The 'whole' Bot for testing\n",
        "---"
      ]
    },
    {
      "cell_type": "code",
      "execution_count": null,
      "metadata": {},
      "outputs": [],
      "source": [
        "from discord.ext import commands\n",
        "import discord\n",
        "\n",
        "# Assign the client variable to the result of discord.Client().\n",
        "intents = discord.Intents.default()\n",
        "intents.message_content = True\n",
        "\n",
        "bot = discord.Bot(intents=intents)\n",
        "\n",
        "# Define an async function under the client event parameter.\n",
        "# This function will print the bot user's client ID to our console\n",
        "# once the async function has returned that we have logged in sucessfully.\n",
        "@bot.event\n",
        "async def on_ready():\n",
        "    print('We have logged in as {0.user}'.format(bot))\n",
        "\n",
        "\n",
        "# ping -- returns message \"Pong!\" to check the bot's online status.\n",
        "@bot.slash_command(name=\"ping\", description=\"Ping the bot\")\n",
        "async def ping(ctx):\n",
        "    await ctx.respond('Pong!')\n",
        "\n",
        "# hello - will return the string \"Hello, user!\" depending on user.\n",
        "@bot.slash_command(name=\"hello\")\n",
        "async def hello(ctx):\n",
        "    await ctx.respond('Hello ' + ctx.author.name+'!')\n",
        "    \n",
        "\n",
        "#aboutme - will return the name and the pfp image of the user in an embed\n",
        "@bot.slash_command(name=\"about-me\")\n",
        "async def aboutme(ctx):\n",
        "    embed=discord.Embed(title=ctx.user.display_name)\n",
        "    embed.set_thumbnail(url=ctx.user.display_avatar)\n",
        "    await ctx.respond(embed=embed)\n",
        "\n",
        "# help -- will direct message the user a help message.\n",
        "@bot.slash_command(name=\"help\", description='Type in the command that you want to know more about')\n",
        "async def help(ctx, cmd):\n",
        "    commands = {\n",
        "        'ping': ' is to check if the bot is online or not',\n",
        "        'hello': ' is to say hello to the bot',\n",
        "        'help': ' is to get help with the bot'\n",
        "    }\n",
        "    await ctx.send(cmd.upper() + commands[cmd])\n",
        "    \n",
        "# good bot\n",
        "@bot.event\n",
        "async def on_message(message):\n",
        "    if message.content.lower() == 'good bot':\n",
        "      print('we re bt to run sth')\n",
        "      await message.add_reaction('💖')\n",
        "\n",
        "# This line assigns our client with the correct bot token, authenticating\n",
        "# that we have access to run our code on this bot user. To do this, we just simply need to \n",
        "# retrieve the token we store in the env\n",
        "bot.run(DISCORD_TOKEN)"
      ]
    },
    {
      "cell_type": "markdown",
      "metadata": {
        "id": "WYRn2-6F8lOI"
      },
      "source": [
        "# Additional Information \n",
        "---\n",
        "\n",
        "You've now completed the Discord Bot Development with Python workshop. Thank you for attending! For those of you who want to **develop and maintain a full bot**, I suggest following the steps below to get **3 free months of hosting**, as long as you're a university student.\n",
        "\n",
        "*   Log into your GitHub account\n",
        "*   Register with the [GitHub Student Developer Pack](https://education.github.com/pack).\n",
        "  * This provides free subscriptions to many popular development services as long as you're a student.\n",
        "* Navigate to the [replit Student Hacker Plan](https://replit.com/site/github-students) page and sign in using your GitHub account.\n",
        "  * replit is a well established online IDE that allows you to run code with many different languages.\n",
        "  * We can use replit to host our Discord bot permanently for 3 months (the length of the replit Hacker Plan for Students).\n",
        "* Develop your bot on the replit editor using the code you've learned in this workshop, run it, and check the \"Always On\" option in the details of the file (click the name).\n",
        "\n",
        "Written by [Jack Margeson](marg.es/) for the University of Cincinnati's CEAS Library workshop program.\n",
        "\n",
        "Last updated by Huu Quang Nhat Nguyen"
      ]
    }
  ],
  "metadata": {
    "colab": {
      "collapsed_sections": [],
      "name": "Discord Bot Development with Python.ipynb",
      "provenance": []
    },
    "kernelspec": {
      "display_name": "Python 3.10.6 64-bit",
      "language": "python",
      "name": "python3"
    },
    "language_info": {
      "codemirror_mode": {
        "name": "ipython",
        "version": 3
      },
      "file_extension": ".py",
      "mimetype": "text/x-python",
      "name": "python",
      "nbconvert_exporter": "python",
      "pygments_lexer": "ipython3",
      "version": "3.10.6"
    },
    "vscode": {
      "interpreter": {
        "hash": "aee8b7b246df8f9039afb4144a1f6fd8d2ca17a180786b69acc140d282b71a49"
      }
    }
  },
  "nbformat": 4,
  "nbformat_minor": 0
}
