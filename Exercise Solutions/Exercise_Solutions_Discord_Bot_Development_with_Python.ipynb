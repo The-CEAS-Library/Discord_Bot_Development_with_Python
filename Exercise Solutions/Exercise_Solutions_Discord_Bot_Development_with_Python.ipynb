{
  "cells": [
    {
      "cell_type": "markdown",
      "metadata": {
        "id": "qmceCWFEAiM8"
      },
      "source": [
        "# Exercise #1\n",
        "\n",
        "```python \n",
        "await message.channel.send(f\"Hello, <@{message.author.id}>!\")\n",
        "\n",
        "```"
      ]
    },
    {
      "cell_type": "markdown",
      "metadata": {
        "id": "Lbr9HHJNAsXK"
      },
      "source": [
        "# Exercise #2\n",
        "\n",
        "```python \n",
        "available_commands = [\"help\",\"ping\",\"hello\"]\n",
        "await message.author.send(\"List of available commands: \")\n",
        "for command in available_commands:\n",
        "  await message.author.send(f\"- {command}\");\n",
        "```"
      ]
    },
    {
      "cell_type": "markdown",
      "metadata": {
        "id": "lrs9cwfADbAa"
      },
      "source": [
        "#Exercise #3 (challenge)\n",
        "\n",
        "```python \n",
        "for string in [\"Good bot\", \"good bot\"]:\n",
        "  if string in message.content:\n",
        "    await message.add_reaction('💖')\n",
        "    break\n",
        "```"
      ]
    }
  ],
  "metadata": {
    "colab": {
      "name": "Exercise Solutions - Discord Bot Development with Python.ipynb",
      "provenance": []
    },
    "kernelspec": {
      "display_name": "Python 3.10.6 64-bit",
      "language": "python",
      "name": "python3"
    },
    "language_info": {
      "name": "python",
      "version": "3.10.6"
    },
    "vscode": {
      "interpreter": {
        "hash": "aee8b7b246df8f9039afb4144a1f6fd8d2ca17a180786b69acc140d282b71a49"
      }
    }
  },
  "nbformat": 4,
  "nbformat_minor": 0
}
