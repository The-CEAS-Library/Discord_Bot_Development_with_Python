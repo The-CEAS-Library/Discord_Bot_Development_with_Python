{
 "cells": [
  {
   "cell_type": "markdown",
   "metadata": {
    "id": "eSLkpD5L6Tj6"
   },
   "source": [
    "# **Welcome to Discord Bot Development with Python!**\n",
    "![pydisc.png](data:image/png;base64,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)"
   ]
  },
  {
   "cell_type": "markdown",
   "metadata": {
    "id": "FmDhM75y46og",
    "tags": []
   },
   "source": [
    "# Course Overview \n",
    "---\n",
    "This is a standalone Python workshop taught on the Binder platform. Attending the CEAS Library's Introduction to Python workshops and experience with Python or any other programming language is strongly recommended. This workshop goes over the creation of bots for Discord, a popular text messaging platform, for task automation, server management, and miscellaneous fun applications. Both a Google account and Discord account are required for this workshop.\n",
    "<br>\n",
    "\n",
    "In this workshop, you will learn:\n",
    "<br>\n",
    "\n",
    "*   How Discord bots are made\n",
    "*   What Discord bots are used for\n",
    "*   Creating and utalizing enviroment variables (.env)\n",
    "*   An overview of async. functions and their use in Python\n",
    "*   Foundational knowledge of the pycord API wrapper\n",
    "<br>\n",
    "\n",
    "Important Links\n",
    "---\n",
    "\n",
    "[pycord Documentation](https://docs.pycord.dev/en/master/)\n",
    "\n",
    "[Discord Developer Portal](https://discord.com/developers/applications)\n",
    "\n"
   ]
  },
  {
   "cell_type": "markdown",
   "metadata": {
    "id": "-F_fGBS2D-3n",
    "jp-MarkdownHeadingCollapsed": true,
    "tags": []
   },
   "source": [
    "Pre-requisites\n",
    "---\n",
    "\n",
    "*   Please ensure that you have a Discord account.\n",
    "*   It is highly recommended to create a test server for your bot.\n",
    "  * To do this, click the + \"Add a Server\" button at the bottom of the server list on the Discord client and select \"Create My Own\".\n",
    "  * You can skip the community question when prompted, set a name for the server, and click **Create**.\n",
    "* You should already have a good-ish understanding of the basics of Python$-$below is a list of things that you might want to know before this workshop. If any of these ideas seem foreign to you, don't worry$-$you can still follow along, and if you wish to learn more about what you're actually programming, you should consider taking the CEAS Library's Introduction to Python workshop series.\n",
    "  * String manipulation \n",
    "  * Data types \n",
    "  * Basic conditional statements\n",
    "  * Importing Python packages\n",
    "\n",
    "\n"
   ]
  },
  {
   "cell_type": "markdown",
   "metadata": {
    "id": "SqptyyjA-IM0",
    "jp-MarkdownHeadingCollapsed": true,
    "tags": []
   },
   "source": [
    "# What and Why?\n",
    "---\n",
    "Discord is a popular instant-messaging and voice communicatoin service released in 2015. Since then, the developers of Discord have created the Discord Development Portal to allow programmers to create Bot Users, essentially, accounts that have the appearance of a regular user that can run programmed commands on request.\n",
    "\n",
    "<br>\n",
    "\n",
    "**Why do communities use Discord Bots?**\n",
    "\n",
    "1.   To organize community events\n",
    "2.   To handle moderation and role assignment for new users\n",
    "3.   To utalize the powerful API to connect Discord to other services\n",
    "4.   To create games, fun activities, and reward systems for members\n",
    "\n"
   ]
  },
  {
   "cell_type": "markdown",
   "metadata": {
    "id": "rdIWjyjuBWC8",
    "jp-MarkdownHeadingCollapsed": true,
    "tags": []
   },
   "source": [
    "# Getting Started\n",
    "---\n",
    "To begin, start by signing into your Discord account on the [Discord Developer Portal](https://discord.com/developers/applications) page. Next to your profile picture in the top right-hand corner, you will see a New Application button$-$go ahead and click it. \n",
    "\n",
    "\n",
    "![](https://i.imgur.com/ValUoQV.png)\n",
    "\n",
    "Give your application a name on the pop-up and click the **Create** button. You will be taken to the application overview page.\n",
    "\n",
    "\n",
    "![](https://i.imgur.com/OXgYdbo.png)\n",
    "\n",
    "\n",
    "\n",
    "Click on the \"Bot\" tab under settings, and select \"Add Bot\". If you've successfully created a bot, the window should now look like this:\n",
    "\n",
    "\n",
    "![](https://i.imgur.com/jRuRk8H.png)\n",
    "\n",
    "\n",
    "Click on the OAuth2 tab under settings. In that category, continue to the \"URL Generator\" option. Under \"Scopes\", check the box that says \"bot\". When the Bot Permissions tab appears, choose the boxes that say \"Send Messages\", \"Manage Messages\", and \"Read Message History. Then, copy the generated URL and navigate to it in your browser **in a new tab**. Invite the bot to your test server.\n",
    "\n",
    "\n",
    "![](https://i.imgur.com/WwAQw1C.png)\n",
    "\n",
    "\n",
    "Navigate back to the \"Bot\" tab under settings and click the \"Reset Token\" button. **This is your bot's secret token$-$do not share it with anyone!** Copy the string of characters that is given and continue to the next section.\n",
    "\n",
    "\n",
    "![](https://i.imgur.com/7vqOV30.png)\n"
   ]
  },
  {
   "cell_type": "markdown",
   "metadata": {
    "id": "nMhp6gxB0Ep5",
    "tags": []
   },
   "source": [
    "# Creating Enviroment Variables (.env)\n",
    "---\n",
    "**Define** enviroment variables: .env files are simple text-based files that allow you to control constant variables for use in your application. This is especially helpful for creating secret variables (think about what would happen if you commited a file with a secret bot key to GitHub!)\n",
    "\n",
    "Python has a package that allows us to store important secret variables on our local filesystem so we can use them for later. In this code block, we import the `python-dotenv` package and set our DISCORD_TOKEN which we talked about previously.\n",
    "\n",
    "This helps keep our bot's private key secure$-$this means that only *we* will be able to log into the bot interface and run explicitly our code. "
   ]
  },
  {
   "cell_type": "code",
   "execution_count": null,
   "metadata": {
    "colab": {
     "base_uri": "https://localhost:8080/"
    },
    "id": "i8TYHtBlVzPw",
    "outputId": "8707269e-22ff-473f-b04b-efcf7bd4640e"
   },
   "outputs": [],
   "source": [
    "# pip install python-dotenv -qU\n",
    "import dotenv\n",
    "from dotenv import load_dotenv"
   ]
  },
  {
   "cell_type": "markdown",
   "metadata": {
    "id": "Goe1Kf-RVztq"
   },
   "source": [
    "Run the code below and paste your Discord bot's token in the field.\n",
    "\n",
    "\n",
    "Since the .env is stored here locally, if you're running this on Binder, make sure you save your bot token to a text file on your computer somewhere, too. Binder will clear this .env file after the connection is closed, so we want to make sure to keep it for later."
   ]
  },
  {
   "cell_type": "code",
   "execution_count": null,
   "metadata": {
    "id": "eI_rpmqBuhHr"
   },
   "outputs": [],
   "source": [
    "%reset -f\n",
    "\n",
    "from getpass import getpass\n",
    "l_token = getpass(\"DISCORD_TOKEN: \")\n",
    "        \n",
    "try:\n",
    "    with open(\"vars.env\",\"w\") as f:\n",
    "        f.write(\"DISCORD_TOKEN=\" + l_token)\n",
    "except IOError as err:\n",
    "    print(err)\n",
    "\n",
    "print(f\"Saved enviroment variable to vars.env. Right click on the file in the sidebar and save a copy!\")"
   ]
  },
  {
   "cell_type": "markdown",
   "metadata": {
    "id": "OU1EjZEq1U5x"
   },
   "source": [
    "# Loading Enviroment Variables (.env)\n",
    "---\n",
    "To access the enviroment variable we just set, we import the operating system package for Python `import os` to give it access to our \"file system\" (in this case, our Google Drive), and then use the `.getenv()` method to assign our token secret to a variable named DISCORD_TOKEN."
   ]
  },
  {
   "cell_type": "code",
   "execution_count": null,
   "metadata": {
    "id": "6HB7QNn5y_Sv"
   },
   "outputs": [],
   "source": [
    "import os\n",
    "import dotenv\n",
    "\n",
    "dotenv.load_dotenv()\n",
    "DISCORD_TOKEN = os.getenv(\"DISCORD_TOKEN\")"
   ]
  },
  {
   "cell_type": "markdown",
   "metadata": {
    "id": "EK3vUhR38Eir"
   },
   "source": [
    "# Overview of Asynchronous Functions\n",
    "---\n",
    "\n",
    "**Define** asynchronous functions: special functions that define code to be executed on seperate *threads*, allowing for several task executions to happen indpendently from the *main function*.\n",
    "\n",
    "**Define** threads: a set of instructions to be executed by your computer's CPU.\n",
    "\n",
    "**Define** control flow: the order in which statement, assignments, and functions are called in a program.\n",
    "\n",
    "<br>\n",
    "\n",
    "### Here's an example of the control flow of a normal function:\n",
    "![](https://i.imgur.com/Ggfr9kB.png)\n",
    "\n",
    "### And here's an example of the control flow of an async function:\n",
    "![](https://i.imgur.com/OL3KsS8.png)\n",
    "\n",
    "<br>\n",
    "\n",
    "\n",
    "\n",
    "Using async functions in Python is easy. First, we can import the `asyncio` package in our code. We can use the async and await keywords to establish asynchronous control flow. \n",
    "\n",
    "**Keyword async:** designates a Python function as asynchronous--the \"other function\" in the diagram above\n",
    "\n",
    "**Keyword await:** essentially, adding this to a call to a function lets Python know that we need to wait for the subroutine action to return a value before continuing along in the main function.\n",
    "\n",
    "<br>\n",
    "\n",
    "When we talked about async functions, we did not touch upon the downsides$-$they do not work perfectly in Jupiter notebooks, the underlying technology of Google Colab, the platform we are using currently. To overcome the problem of async functions not being able to be nested, we can install the `nest_asyncio` package to sidestep this limitation. We apply it to the notebook below with the method `.apply()`.\n",
    "\n",
    "<br>\n",
    "\n",
    "Below is a small example of asyncio functions being used in Python, from the [Coroutines and Tasks Python 3.10 documentation](https://docs.python.org/3/library/asyncio-task.html). Please run this block so that nest_asyncio is installed:"
   ]
  },
  {
   "cell_type": "code",
   "execution_count": null,
   "metadata": {
    "colab": {
     "base_uri": "https://localhost:8080/"
    },
    "id": "9DWFVtiVHv-9",
    "outputId": "869829f6-5417-4d20-eafb-ffe04c0bafea"
   },
   "outputs": [],
   "source": [
    "import asyncio\n",
    "import nest_asyncio as n_asyncio\n",
    "n_asyncio.apply()\n",
    "\n",
    "import time\n",
    "\n",
    "async def say_after(time_delay, string):\n",
    "    await asyncio.sleep(time_delay)\n",
    "    print(string)\n",
    "\n",
    "async def main():\n",
    "    print(f\"started at {time.strftime('%X')}\")\n",
    "\n",
    "    await say_after(1, 'hello')\n",
    "    await say_after(2, 'world')\n",
    "\n",
    "    print(f\"finished at {time.strftime('%X')}\")\n",
    "\n",
    "asyncio.run(main())"
   ]
  },
  {
   "cell_type": "markdown",
   "metadata": {
    "id": "oholT-3y6sbI"
   },
   "source": [
    "# Installing pycord\n",
    "---\n",
    "pycord is a very popular library choice for developers of Discord bots. This is because out of every library or language that has implemented the Discord Developer API, the pycord team has worked hard to maintain compatibility, documentation, and ease of use of the features present in the Discord API with Python. We can install it from the pip package `py-cord`, and we'll import it by calling `import discord`."
   ]
  },
  {
   "cell_type": "code",
   "execution_count": null,
   "metadata": {
    "colab": {
     "base_uri": "https://localhost:8080/"
    },
    "id": "tpndeqj_1SGE",
    "outputId": "c2096533-e7ca-4ba1-9a8c-1869dfc6fc3c"
   },
   "outputs": [],
   "source": [
    "# pip install py-cord -qU\n",
    "import discord"
   ]
  },
  {
   "cell_type": "markdown",
   "metadata": {
    "id": "zA_tSnDvDnhK"
   },
   "source": [
    "# Instantiating and Running our Bot\n",
    "---\n",
    "\n",
    "Below is the code that allows our discord.py bot to come to life. \n",
    "\n",
    "### **This code cannot be run on Binder. If you are using the Binder version of this workshop, please copy this code and use another Python compiler option (the author suggests [repl.it](https://repl.it)).**"
   ]
  },
  {
   "cell_type": "code",
   "execution_count": null,
   "metadata": {
    "id": "4OZhJGVj1n9J"
   },
   "outputs": [],
   "source": [
    "import discord\n",
    "import nest_asyncio as n_asyncio\n",
    "n_asyncio.apply()\n",
    "\n",
    "import os\n",
    "import dotenv\n",
    "dotenv.load_dotenv()\n",
    "DISCORD_TOKEN = os.getenv(\"DISCORD_TOKEN\")\n",
    "\n",
    "# Assign the client variable to the result of discord.Client().\n",
    "client = discord.Client()\n",
    "\n",
    "# Define an async function under the client event parameter.\n",
    "# This function will print the bot user's client ID to our console\n",
    "# once the async function has returned that we have logged in sucessfully.\n",
    "@client.event\n",
    "async def on_ready():\n",
    "    print('We have logged in as {0.user}'.format(client))\n",
    "\n",
    "# This is the main processing function of the bot. It defines \n",
    "# the \"on_message\" async function--this function will execute\n",
    "# when a user types a message in the Discord chat.\n",
    "@client.event\n",
    "async def on_message(message):\n",
    "    # Bonus points: does anyone know why we include this line?\n",
    "    if message.author == client.user:\n",
    "        return\n",
    "\n",
    "    # If the content of the chat message starts with the character '!',\n",
    "    # we know that the chat message was meant to be a command request.\n",
    "    if message.content.startswith('!'):\n",
    "        # The command we want to execute is whatever the message is, minus the \n",
    "        # \"activation character\" of '!'.\n",
    "        command = message.content[1:]\n",
    "\n",
    "        # Using the if elif else structure, we can check the command the user\n",
    "        # inputted and return certain messages or functions.\n",
    "\n",
    "        # ping -- returns message \"Pong!\" to check the bot's online status.\n",
    "        if command == \"ping\":\n",
    "          await message.channel.send('Pong!')\n",
    "        # hello - will return the string \"Hello, user!\" depending on user.\n",
    "        elif command == \"hello\":\n",
    "          None # code for Exercise #1\n",
    "          \n",
    "\n",
    "\n",
    "\n",
    "        # help -- will direct message the user a help message.\n",
    "        elif command == \"help\":\n",
    "          None # code for Exercise #2\n",
    "\n",
    "\n",
    "\n",
    "\n",
    "        # If the command doesnt exist, make the bot state it doens't understand.\n",
    "        else: \n",
    "          await message.channel.send(\"I'm sorry—not sure that I understand.\")\n",
    "    \n",
    "    # code for Exercise #3 (challenge)\n",
    "\n",
    "\n",
    "\n",
    "\n",
    "\n",
    "# This line assigns our client with the correct bot token, authenticating\n",
    "# that we have access to run our code on this bot user.\n",
    "client.run(DISCORD_TOKEN)"
   ]
  },
  {
   "cell_type": "markdown",
   "metadata": {
    "id": "q6VrTZNRFHgi"
   },
   "source": [
    "# Exercise #1\n",
    "---\n",
    "**Writing the \"hello\" command:** create the code for a command that, when executed by a user, will make the bot return a message saying \"Hello, user!\" where user is the username/id of the user who requested the command. It should be a simple, one line command.\n",
    "<br>\n",
    "\n",
    "### **Please write your code in the bot-code block above so that you can run it for testing.**\n",
    "\n",
    "<br>\n",
    "\n",
    "**Hint #1:** check out the `ping` command on our bot to see the syntax for sending bot messages.\n",
    "\n",
    "**Hint #2:** The `message` parameter that is passed from the function when we get a chat message might contain some useful information for this problem, like the author of the message. It might be helpful to [check the documentation.](https://docs.pycord.dev/en/master/api.html?highlight=member#discord.Message.author)\n",
    "\n"
   ]
  },
  {
   "cell_type": "markdown",
   "metadata": {
    "id": "exVJFTKOKa-3"
   },
   "source": [
    "# Exercise #2\n",
    "---\n",
    "\n",
    "Writing the \"help\" command: create the code for a command that, when executed by a user, will make the bot direct message the user once per command with the name of the command for all available commands. \n",
    "<br>\n",
    "\n",
    "### **Please write your code in the bot-code block above so that you can run it for testing.**\n",
    "\n",
    "<br>\n",
    "\n",
    "**Hint #1:** We now know how to get the author of a message. But we do *not* know how to send a direct message, only one to the channel that the command was sent from using `message.channel.send`. Taking a look [at the documentation](https://docs.pycord.dev/en/master/api.html?highlight=member#member) for the method functions of Member might help.\n",
    "\n",
    "**Hint #2:** We can create a list of available commands by declaring them in a list `[\"ping\",\"help\"...]`."
   ]
  },
  {
   "cell_type": "markdown",
   "metadata": {
    "id": "HbQM4fiVA6Nd"
   },
   "source": [
    "# Exercise #3 (challenge)\n",
    "---\n",
    "\n",
    "We can make bots do all kinds of interesting things. Let's make our bot react to every message that contains the string \"Good bot\" or \"good bot\" with the heart emoji (💖).\n",
    "<br>\n",
    "\n",
    "### **Please write your code in the bot-code block above so that you can run it for testing.**\n",
    "\n",
    "<br>\n",
    "\n",
    "**Hint #1:** Here is the [documentation page](https://docs.pycord.dev/en/master/api.html?highlight=member#discord.Message.add_reaction) for adding reactions to messages.\n",
    "\n",
    "\n",
    "**Hint #2:** pycord and Python both support Unicode characters in code. You should try using `'💖'` as a string literal in your answer."
   ]
  },
  {
   "cell_type": "markdown",
   "metadata": {
    "id": "WYRn2-6F8lOI"
   },
   "source": [
    "# Additional Information \n",
    "---\n",
    "\n",
    "You've now completed the Discord Bot Development with Python workshop. Thank you for attending! For those of you who want to **develop and maintain a full bot**, I suggest following the steps below to get **3 free months of hosting**, as long as you're a university student.\n",
    "\n",
    "<br>\n",
    "\n",
    "*   Log into your GitHub account\n",
    "*   Register with the [GitHub Student Developer Pack](https://education.github.com/pack).\n",
    "  * This provides free subscriptions to many popular development services as long as you're a student.\n",
    "* Navigate to the [replit Student Hacker Plan](https://replit.com/site/github-students) page and sign in using your GitHub account.\n",
    "  * replit is a well established online IDE that allows you to run code with many different languages.\n",
    "  * We can use replit to host our Discord bot permanently for 3 months (the length of the replit Hacker Plan for Students).\n",
    "* Develop your bot on the replit editor using the code you've learned in this workshop, run it, and check the \"Always On\" option in the details of the file (click the name).\n",
    "\n",
    "<br>\n",
    "\n",
    "\n",
    "Written by [Jack Margeson](marg.es/) for the University of Cincinnati's CEAS Library workshop program.\n",
    "\n"
   ]
  }
 ],
 "metadata": {
  "colab": {
   "collapsed_sections": [],
   "name": "Discord Bot Development with Python.ipynb",
   "provenance": []
  },
  "kernelspec": {
   "display_name": "Python 3 (ipykernel)",
   "language": "python",
   "name": "python3"
  },
  "language_info": {
   "codemirror_mode": {
    "name": "ipython",
    "version": 3
   },
   "file_extension": ".py",
   "mimetype": "text/x-python",
   "name": "python",
   "nbconvert_exporter": "python",
   "pygments_lexer": "ipython3",
   "version": "3.7.12"
  },
  "toc-showcode": false
 },
 "nbformat": 4,
 "nbformat_minor": 4
}
